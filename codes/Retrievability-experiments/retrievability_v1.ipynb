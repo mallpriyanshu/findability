{
 "cells": [
  {
   "attachments": {},
   "cell_type": "markdown",
   "metadata": {},
   "source": [
    "In this version v1 notebook, I do -"
   ]
  },
  {
   "cell_type": "code",
   "execution_count": 1,
   "metadata": {},
   "outputs": [],
   "source": [
    "# imports\n",
    "import os\n",
    "import pickle\n",
    "from tqdm import tqdm\n",
    "import json\n",
    "from collections import Counter"
   ]
  },
  {
   "cell_type": "code",
   "execution_count": 3,
   "metadata": {},
   "outputs": [
    {
     "name": "stderr",
     "output_type": "stream",
     "text": [
      "100%|██████████| 5/5 [00:15<00:00,  3.07s/it]\n"
     ]
    }
   ],
   "source": [
    "# for-Azzopardi-queries\n",
    "\n",
    "with open('./Known-item-queries-rd/allrd_counters_MSMARCO.json', 'r') as f:\n",
    "    allrd = json.load(f)\n",
    "\n",
    "new_allrd = {}\n",
    "for key in tqdm(allrd):\n",
    "    new_allrd[key] = Counter()\n",
    "    for luceneDocid in allrd[key]['counts']:\n",
    "        new_allrd[key][int(luceneDocid)] = int(allrd[key]['counts'][luceneDocid])\n",
    "\n",
    "with open('./Known-item-queries-rd/allrd_MSMARCO.pickle', 'wb') as f:\n",
    "    pickle.dump(new_allrd, f)"
   ]
  }
 ],
 "metadata": {
  "kernelspec": {
   "display_name": "Python 3",
   "language": "python",
   "name": "python3"
  },
  "language_info": {
   "codemirror_mode": {
    "name": "ipython",
    "version": 3
   },
   "file_extension": ".py",
   "mimetype": "text/x-python",
   "name": "python",
   "nbconvert_exporter": "python",
   "pygments_lexer": "ipython3",
   "version": "3.10.6"
  },
  "orig_nbformat": 4
 },
 "nbformat": 4,
 "nbformat_minor": 2
}
