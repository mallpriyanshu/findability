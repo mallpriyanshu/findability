{
 "cells": [
  {
   "cell_type": "code",
   "execution_count": 1,
   "metadata": {},
   "outputs": [],
   "source": [
    "import json\n",
    "from tqdm import tqdm"
   ]
  },
  {
   "cell_type": "code",
   "execution_count": 4,
   "metadata": {},
   "outputs": [],
   "source": [
    "with open('../../Known-item Queries/MSMARCO/queries_MSMARCO.json', 'r') as f:\n",
    "    queries = json.load(f)"
   ]
  },
  {
   "cell_type": "code",
   "execution_count": 5,
   "metadata": {},
   "outputs": [
    {
     "name": "stderr",
     "output_type": "stream",
     "text": [
      "100%|██████████| 8841823/8841823 [00:02<00:00, 3756465.62it/s]\n"
     ]
    },
    {
     "name": "stdout",
     "output_type": "stream",
     "text": [
      "19839452\n",
      "17937900\n"
     ]
    }
   ],
   "source": [
    "allqueries = []\n",
    "for docid in tqdm(queries):\n",
    "    allqueries.extend(queries[docid])\n",
    "\n",
    "print(len(allqueries))\n",
    "\n",
    "allqueries = list(set(allqueries))\n",
    "with open('./MSMARCO/known_queries_MSMARCO.json', 'w') as f:\n",
    "    json.dump(allqueries, f)\n",
    "\n",
    "print(len(allqueries))"
   ]
  }
 ],
 "metadata": {
  "kernelspec": {
   "display_name": "Python 3",
   "language": "python",
   "name": "python3"
  },
  "language_info": {
   "codemirror_mode": {
    "name": "ipython",
    "version": 3
   },
   "file_extension": ".py",
   "mimetype": "text/x-python",
   "name": "python",
   "nbconvert_exporter": "python",
   "pygments_lexer": "ipython3",
   "version": "3.10.6"
  },
  "orig_nbformat": 4
 },
 "nbformat": 4,
 "nbformat_minor": 2
}
